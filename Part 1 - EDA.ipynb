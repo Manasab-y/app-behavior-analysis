{
 "cells": [
  {
   "cell_type": "markdown",
   "metadata": {
    "toc": true
   },
   "source": [
    "<h1>Table of Contents<span class=\"tocSkip\"></span></h1>\n",
    "<div class=\"toc\"><ul class=\"toc-item\"><li><span><a href=\"#Project-Overview\" data-toc-modified-id=\"Project-Overview-1\"><span class=\"toc-item-num\">1&nbsp;&nbsp;</span>Project Overview</a></span></li><li><span><a href=\"#Business-Challenge\" data-toc-modified-id=\"Business-Challenge-2\"><span class=\"toc-item-num\">2&nbsp;&nbsp;</span>Business Challenge</a></span></li><li><span><a href=\"#Data-Overview\" data-toc-modified-id=\"Data-Overview-3\"><span class=\"toc-item-num\">3&nbsp;&nbsp;</span>Data Overview</a></span></li><li><span><a href=\"#Data-Prep\" data-toc-modified-id=\"Data-Prep-4\"><span class=\"toc-item-num\">4&nbsp;&nbsp;</span>Data Prep</a></span></li><li><span><a href=\"#Histograms\" data-toc-modified-id=\"Histograms-5\"><span class=\"toc-item-num\">5&nbsp;&nbsp;</span>Histograms</a></span></li><li><span><a href=\"#Investigating-Correlations-with-Response-Variable\" data-toc-modified-id=\"Investigating-Correlations-with-Response-Variable-6\"><span class=\"toc-item-num\">6&nbsp;&nbsp;</span>Investigating Correlations with Response Variable</a></span></li></ul></div>"
   ]
  },
  {
   "cell_type": "markdown",
   "metadata": {},
   "source": [
    "# Project Overview"
   ]
  },
  {
   "cell_type": "markdown",
   "metadata": {},
   "source": [
    "In today's market, many companies have a mobile presence. Often, these companies provide free products/services in their mobile apps in an attempt to transition their customers to a paid membership. Some examples of paid products, which originate from free ones, include YouTube Red, Pandora Premium, Audible Subscription and You Need a Budget. Since marketing efforts are never free, these companies need to know exactly who to target with their offers and promotions.\n",
    "\n",
    "- **Market:** The target audience is customers who use a company's free product. For this project, this refers to users who installed (and used) the company's free mobile app.\n",
    "- **Product:** The paid memberships often provide enhanced versions of the free products already given for free, alongside new features. For example, YouTube Red allows you to leave the app while still listening to a video.\n",
    "- **Goal:** The objective of this model is to predict which users will not subscribe to the paid membership, so that greater marketing efforts can go into trying to \"convert\" them to paid users."
   ]
  },
  {
   "cell_type": "markdown",
   "metadata": {},
   "source": [
    "# Business Challenge"
   ]
  },
  {
   "cell_type": "markdown",
   "metadata": {},
   "source": [
    "The data comes from a fintech company that wants to provide its customers with a paid mobile app subscription that will allow them to track all their finances in one place. To attract customers, the company releases a free version of their app with some of the main features unlocked. \n",
    "\n",
    "We will identify which users will most likely **NOT** enroll in a paid product, so that additional offers can be given to them. Due to the costs of these offers, the company does not want to offer them to everybody, especially customers who were going to enroll anyways."
   ]
  },
  {
   "cell_type": "markdown",
   "metadata": {},
   "source": [
    "# Data Overview"
   ]
  },
  {
   "cell_type": "markdown",
   "metadata": {},
   "source": [
    "We have access to the each customer's app behaviour data. This data allows us to see the date and time of app installation, as well as the features the user engaged with in the app. App behaviour is characterised as the list of app screens the user looked at and whether the user played the financial mini-games available. \n",
    "\n",
    "The app usage data is only from the user's first day in the app. This limitation exists because users can enjoy a 24-hour free trial of the premium features and the company wants to target them with new offers shortly after the trial is over.\n",
    "\n",
    "The data fields  we'll be working with are as follows:\n",
    "\n",
    "- `first_open`: The datetime when the user first opened the app\n",
    "- `dayofweek`: the integer day of the week when the user first opened the app. Starts at 0, which is Sunday and runs to 6 which is Saturday. \n",
    "- `hour`: Hour of the day when user first opened app. in 24 hours format as 18:00:00. Correlates with `dayofweek`.\n",
    "- `age`: Age of the user.\n",
    "- `screen_list`: Comma-seperated list of screens that the users accessed in their first 24 hours.\n",
    "- `numscreens`: The number of screens accessed in their first 24 hours.\n",
    "- `liked`: Each screen has an feature to 'like' that particualr screen. If any screens are liked, this value will be 1, otherwise 0.\n",
    "- `minigame`: 1 if the user played the mini-game, 0 otherwise.\n",
    "- `used_premium_feature`: 1 if the user accessed any of the premium features in the first 24 hours, 0 otherwise.\n",
    "- `enrolled`: 1 if the user enrolled, 0 otherwise. This is the field that will be predicted later.\n",
    "- `enrolled_date`: If the user enrolled at any time, this value is popopulated with the date of enrollment."
   ]
  },
  {
   "cell_type": "markdown",
   "metadata": {},
   "source": [
    "# Data Prep"
   ]
  },
  {
   "cell_type": "code",
   "execution_count": 45,
   "metadata": {},
   "outputs": [],
   "source": [
    "import numpy as np\n",
    "import pandas as pd\n",
    "import matplotlib.pyplot as plt\n",
    "import seaborn as sns\n",
    "from dateutil import parser\n",
    "%matplotlib inline"
   ]
  },
  {
   "cell_type": "code",
   "execution_count": 46,
   "metadata": {},
   "outputs": [],
   "source": [
    "df = pd.read_csv('data/appdata10.csv')"
   ]
  },
  {
   "cell_type": "code",
   "execution_count": 47,
   "metadata": {},
   "outputs": [
    {
     "data": {
      "text/html": [
       "<div>\n",
       "<style scoped>\n",
       "    .dataframe tbody tr th:only-of-type {\n",
       "        vertical-align: middle;\n",
       "    }\n",
       "\n",
       "    .dataframe tbody tr th {\n",
       "        vertical-align: top;\n",
       "    }\n",
       "\n",
       "    .dataframe thead th {\n",
       "        text-align: right;\n",
       "    }\n",
       "</style>\n",
       "<table border=\"1\" class=\"dataframe\">\n",
       "  <thead>\n",
       "    <tr style=\"text-align: right;\">\n",
       "      <th></th>\n",
       "      <th>user</th>\n",
       "      <th>first_open</th>\n",
       "      <th>dayofweek</th>\n",
       "      <th>hour</th>\n",
       "      <th>age</th>\n",
       "      <th>screen_list</th>\n",
       "      <th>numscreens</th>\n",
       "      <th>minigame</th>\n",
       "      <th>used_premium_feature</th>\n",
       "      <th>enrolled</th>\n",
       "      <th>enrolled_date</th>\n",
       "      <th>liked</th>\n",
       "    </tr>\n",
       "  </thead>\n",
       "  <tbody>\n",
       "    <tr>\n",
       "      <th>0</th>\n",
       "      <td>235136</td>\n",
       "      <td>2012-12-27 02:14:51.273</td>\n",
       "      <td>3</td>\n",
       "      <td>02:00:00</td>\n",
       "      <td>23</td>\n",
       "      <td>idscreen,joinscreen,Cycle,product_review,ScanP...</td>\n",
       "      <td>15</td>\n",
       "      <td>0</td>\n",
       "      <td>0</td>\n",
       "      <td>0</td>\n",
       "      <td>NaN</td>\n",
       "      <td>0</td>\n",
       "    </tr>\n",
       "    <tr>\n",
       "      <th>1</th>\n",
       "      <td>333588</td>\n",
       "      <td>2012-12-02 01:16:00.905</td>\n",
       "      <td>6</td>\n",
       "      <td>01:00:00</td>\n",
       "      <td>24</td>\n",
       "      <td>joinscreen,product_review,product_review2,Scan...</td>\n",
       "      <td>13</td>\n",
       "      <td>0</td>\n",
       "      <td>0</td>\n",
       "      <td>0</td>\n",
       "      <td>NaN</td>\n",
       "      <td>0</td>\n",
       "    </tr>\n",
       "    <tr>\n",
       "      <th>2</th>\n",
       "      <td>254414</td>\n",
       "      <td>2013-03-19 19:19:09.157</td>\n",
       "      <td>1</td>\n",
       "      <td>19:00:00</td>\n",
       "      <td>23</td>\n",
       "      <td>Splash,Cycle,Loan</td>\n",
       "      <td>3</td>\n",
       "      <td>0</td>\n",
       "      <td>1</td>\n",
       "      <td>0</td>\n",
       "      <td>NaN</td>\n",
       "      <td>1</td>\n",
       "    </tr>\n",
       "    <tr>\n",
       "      <th>3</th>\n",
       "      <td>234192</td>\n",
       "      <td>2013-07-05 16:08:46.354</td>\n",
       "      <td>4</td>\n",
       "      <td>16:00:00</td>\n",
       "      <td>28</td>\n",
       "      <td>product_review,Home,product_review,Loan3,Finan...</td>\n",
       "      <td>40</td>\n",
       "      <td>0</td>\n",
       "      <td>0</td>\n",
       "      <td>1</td>\n",
       "      <td>2013-07-05 16:11:49.513</td>\n",
       "      <td>0</td>\n",
       "    </tr>\n",
       "    <tr>\n",
       "      <th>4</th>\n",
       "      <td>51549</td>\n",
       "      <td>2013-02-26 18:50:48.661</td>\n",
       "      <td>1</td>\n",
       "      <td>18:00:00</td>\n",
       "      <td>31</td>\n",
       "      <td>idscreen,joinscreen,Cycle,Credit3Container,Sca...</td>\n",
       "      <td>32</td>\n",
       "      <td>0</td>\n",
       "      <td>0</td>\n",
       "      <td>1</td>\n",
       "      <td>2013-02-26 18:56:37.841</td>\n",
       "      <td>1</td>\n",
       "    </tr>\n",
       "  </tbody>\n",
       "</table>\n",
       "</div>"
      ],
      "text/plain": [
       "     user               first_open  dayofweek       hour  age  \\\n",
       "0  235136  2012-12-27 02:14:51.273          3   02:00:00   23   \n",
       "1  333588  2012-12-02 01:16:00.905          6   01:00:00   24   \n",
       "2  254414  2013-03-19 19:19:09.157          1   19:00:00   23   \n",
       "3  234192  2013-07-05 16:08:46.354          4   16:00:00   28   \n",
       "4   51549  2013-02-26 18:50:48.661          1   18:00:00   31   \n",
       "\n",
       "                                         screen_list  numscreens  minigame  \\\n",
       "0  idscreen,joinscreen,Cycle,product_review,ScanP...          15         0   \n",
       "1  joinscreen,product_review,product_review2,Scan...          13         0   \n",
       "2                                  Splash,Cycle,Loan           3         0   \n",
       "3  product_review,Home,product_review,Loan3,Finan...          40         0   \n",
       "4  idscreen,joinscreen,Cycle,Credit3Container,Sca...          32         0   \n",
       "\n",
       "   used_premium_feature  enrolled            enrolled_date  liked  \n",
       "0                     0         0                      NaN      0  \n",
       "1                     0         0                      NaN      0  \n",
       "2                     1         0                      NaN      1  \n",
       "3                     0         1  2013-07-05 16:11:49.513      0  \n",
       "4                     0         1  2013-02-26 18:56:37.841      1  "
      ]
     },
     "execution_count": 47,
     "metadata": {},
     "output_type": "execute_result"
    }
   ],
   "source": [
    "df.head()"
   ]
  },
  {
   "cell_type": "code",
   "execution_count": 48,
   "metadata": {},
   "outputs": [
    {
     "data": {
      "text/html": [
       "<div>\n",
       "<style scoped>\n",
       "    .dataframe tbody tr th:only-of-type {\n",
       "        vertical-align: middle;\n",
       "    }\n",
       "\n",
       "    .dataframe tbody tr th {\n",
       "        vertical-align: top;\n",
       "    }\n",
       "\n",
       "    .dataframe thead th {\n",
       "        text-align: right;\n",
       "    }\n",
       "</style>\n",
       "<table border=\"1\" class=\"dataframe\">\n",
       "  <thead>\n",
       "    <tr style=\"text-align: right;\">\n",
       "      <th></th>\n",
       "      <th>user</th>\n",
       "      <th>dayofweek</th>\n",
       "      <th>age</th>\n",
       "      <th>numscreens</th>\n",
       "      <th>minigame</th>\n",
       "      <th>used_premium_feature</th>\n",
       "      <th>enrolled</th>\n",
       "      <th>liked</th>\n",
       "    </tr>\n",
       "  </thead>\n",
       "  <tbody>\n",
       "    <tr>\n",
       "      <th>count</th>\n",
       "      <td>50000.000000</td>\n",
       "      <td>50000.000000</td>\n",
       "      <td>50000.00000</td>\n",
       "      <td>50000.000000</td>\n",
       "      <td>50000.000000</td>\n",
       "      <td>50000.000000</td>\n",
       "      <td>50000.000000</td>\n",
       "      <td>50000.000000</td>\n",
       "    </tr>\n",
       "    <tr>\n",
       "      <th>mean</th>\n",
       "      <td>186889.729900</td>\n",
       "      <td>3.029860</td>\n",
       "      <td>31.72436</td>\n",
       "      <td>21.095900</td>\n",
       "      <td>0.107820</td>\n",
       "      <td>0.172020</td>\n",
       "      <td>0.621480</td>\n",
       "      <td>0.165000</td>\n",
       "    </tr>\n",
       "    <tr>\n",
       "      <th>std</th>\n",
       "      <td>107768.520361</td>\n",
       "      <td>2.031997</td>\n",
       "      <td>10.80331</td>\n",
       "      <td>15.728812</td>\n",
       "      <td>0.310156</td>\n",
       "      <td>0.377402</td>\n",
       "      <td>0.485023</td>\n",
       "      <td>0.371184</td>\n",
       "    </tr>\n",
       "    <tr>\n",
       "      <th>min</th>\n",
       "      <td>13.000000</td>\n",
       "      <td>0.000000</td>\n",
       "      <td>16.00000</td>\n",
       "      <td>1.000000</td>\n",
       "      <td>0.000000</td>\n",
       "      <td>0.000000</td>\n",
       "      <td>0.000000</td>\n",
       "      <td>0.000000</td>\n",
       "    </tr>\n",
       "    <tr>\n",
       "      <th>25%</th>\n",
       "      <td>93526.750000</td>\n",
       "      <td>1.000000</td>\n",
       "      <td>24.00000</td>\n",
       "      <td>10.000000</td>\n",
       "      <td>0.000000</td>\n",
       "      <td>0.000000</td>\n",
       "      <td>0.000000</td>\n",
       "      <td>0.000000</td>\n",
       "    </tr>\n",
       "    <tr>\n",
       "      <th>50%</th>\n",
       "      <td>187193.500000</td>\n",
       "      <td>3.000000</td>\n",
       "      <td>29.00000</td>\n",
       "      <td>18.000000</td>\n",
       "      <td>0.000000</td>\n",
       "      <td>0.000000</td>\n",
       "      <td>1.000000</td>\n",
       "      <td>0.000000</td>\n",
       "    </tr>\n",
       "    <tr>\n",
       "      <th>75%</th>\n",
       "      <td>279984.250000</td>\n",
       "      <td>5.000000</td>\n",
       "      <td>37.00000</td>\n",
       "      <td>28.000000</td>\n",
       "      <td>0.000000</td>\n",
       "      <td>0.000000</td>\n",
       "      <td>1.000000</td>\n",
       "      <td>0.000000</td>\n",
       "    </tr>\n",
       "    <tr>\n",
       "      <th>max</th>\n",
       "      <td>373662.000000</td>\n",
       "      <td>6.000000</td>\n",
       "      <td>101.00000</td>\n",
       "      <td>325.000000</td>\n",
       "      <td>1.000000</td>\n",
       "      <td>1.000000</td>\n",
       "      <td>1.000000</td>\n",
       "      <td>1.000000</td>\n",
       "    </tr>\n",
       "  </tbody>\n",
       "</table>\n",
       "</div>"
      ],
      "text/plain": [
       "                user     dayofweek          age    numscreens      minigame  \\\n",
       "count   50000.000000  50000.000000  50000.00000  50000.000000  50000.000000   \n",
       "mean   186889.729900      3.029860     31.72436     21.095900      0.107820   \n",
       "std    107768.520361      2.031997     10.80331     15.728812      0.310156   \n",
       "min        13.000000      0.000000     16.00000      1.000000      0.000000   \n",
       "25%     93526.750000      1.000000     24.00000     10.000000      0.000000   \n",
       "50%    187193.500000      3.000000     29.00000     18.000000      0.000000   \n",
       "75%    279984.250000      5.000000     37.00000     28.000000      0.000000   \n",
       "max    373662.000000      6.000000    101.00000    325.000000      1.000000   \n",
       "\n",
       "       used_premium_feature      enrolled         liked  \n",
       "count          50000.000000  50000.000000  50000.000000  \n",
       "mean               0.172020      0.621480      0.165000  \n",
       "std                0.377402      0.485023      0.371184  \n",
       "min                0.000000      0.000000      0.000000  \n",
       "25%                0.000000      0.000000      0.000000  \n",
       "50%                0.000000      1.000000      0.000000  \n",
       "75%                0.000000      1.000000      0.000000  \n",
       "max                1.000000      1.000000      1.000000  "
      ]
     },
     "execution_count": 48,
     "metadata": {},
     "output_type": "execute_result"
    }
   ],
   "source": [
    "df.describe()"
   ]
  },
  {
   "cell_type": "code",
   "execution_count": 49,
   "metadata": {},
   "outputs": [
    {
     "name": "stdout",
     "output_type": "stream",
     "text": [
      "<class 'pandas.core.frame.DataFrame'>\n",
      "RangeIndex: 50000 entries, 0 to 49999\n",
      "Data columns (total 12 columns):\n",
      "user                    50000 non-null int64\n",
      "first_open              50000 non-null object\n",
      "dayofweek               50000 non-null int64\n",
      "hour                    50000 non-null object\n",
      "age                     50000 non-null int64\n",
      "screen_list             50000 non-null object\n",
      "numscreens              50000 non-null int64\n",
      "minigame                50000 non-null int64\n",
      "used_premium_feature    50000 non-null int64\n",
      "enrolled                50000 non-null int64\n",
      "enrolled_date           31074 non-null object\n",
      "liked                   50000 non-null int64\n",
      "dtypes: int64(8), object(4)\n",
      "memory usage: 4.6+ MB\n"
     ]
    }
   ],
   "source": [
    "df.info()"
   ]
  },
  {
   "cell_type": "markdown",
   "metadata": {},
   "source": [
    "Let's convert hour to a numerical value."
   ]
  },
  {
   "cell_type": "code",
   "execution_count": 50,
   "metadata": {},
   "outputs": [],
   "source": [
    "df[\"hour\"] = df.hour.str.slice(1, 3).astype(int)"
   ]
  },
  {
   "cell_type": "code",
   "execution_count": 51,
   "metadata": {},
   "outputs": [
    {
     "data": {
      "text/html": [
       "<div>\n",
       "<style scoped>\n",
       "    .dataframe tbody tr th:only-of-type {\n",
       "        vertical-align: middle;\n",
       "    }\n",
       "\n",
       "    .dataframe tbody tr th {\n",
       "        vertical-align: top;\n",
       "    }\n",
       "\n",
       "    .dataframe thead th {\n",
       "        text-align: right;\n",
       "    }\n",
       "</style>\n",
       "<table border=\"1\" class=\"dataframe\">\n",
       "  <thead>\n",
       "    <tr style=\"text-align: right;\">\n",
       "      <th></th>\n",
       "      <th>user</th>\n",
       "      <th>dayofweek</th>\n",
       "      <th>hour</th>\n",
       "      <th>age</th>\n",
       "      <th>numscreens</th>\n",
       "      <th>minigame</th>\n",
       "      <th>used_premium_feature</th>\n",
       "      <th>enrolled</th>\n",
       "      <th>liked</th>\n",
       "    </tr>\n",
       "  </thead>\n",
       "  <tbody>\n",
       "    <tr>\n",
       "      <th>count</th>\n",
       "      <td>50000.000000</td>\n",
       "      <td>50000.000000</td>\n",
       "      <td>50000.000000</td>\n",
       "      <td>50000.00000</td>\n",
       "      <td>50000.000000</td>\n",
       "      <td>50000.000000</td>\n",
       "      <td>50000.000000</td>\n",
       "      <td>50000.000000</td>\n",
       "      <td>50000.000000</td>\n",
       "    </tr>\n",
       "    <tr>\n",
       "      <th>mean</th>\n",
       "      <td>186889.729900</td>\n",
       "      <td>3.029860</td>\n",
       "      <td>12.557220</td>\n",
       "      <td>31.72436</td>\n",
       "      <td>21.095900</td>\n",
       "      <td>0.107820</td>\n",
       "      <td>0.172020</td>\n",
       "      <td>0.621480</td>\n",
       "      <td>0.165000</td>\n",
       "    </tr>\n",
       "    <tr>\n",
       "      <th>std</th>\n",
       "      <td>107768.520361</td>\n",
       "      <td>2.031997</td>\n",
       "      <td>7.438072</td>\n",
       "      <td>10.80331</td>\n",
       "      <td>15.728812</td>\n",
       "      <td>0.310156</td>\n",
       "      <td>0.377402</td>\n",
       "      <td>0.485023</td>\n",
       "      <td>0.371184</td>\n",
       "    </tr>\n",
       "    <tr>\n",
       "      <th>min</th>\n",
       "      <td>13.000000</td>\n",
       "      <td>0.000000</td>\n",
       "      <td>0.000000</td>\n",
       "      <td>16.00000</td>\n",
       "      <td>1.000000</td>\n",
       "      <td>0.000000</td>\n",
       "      <td>0.000000</td>\n",
       "      <td>0.000000</td>\n",
       "      <td>0.000000</td>\n",
       "    </tr>\n",
       "    <tr>\n",
       "      <th>25%</th>\n",
       "      <td>93526.750000</td>\n",
       "      <td>1.000000</td>\n",
       "      <td>5.000000</td>\n",
       "      <td>24.00000</td>\n",
       "      <td>10.000000</td>\n",
       "      <td>0.000000</td>\n",
       "      <td>0.000000</td>\n",
       "      <td>0.000000</td>\n",
       "      <td>0.000000</td>\n",
       "    </tr>\n",
       "    <tr>\n",
       "      <th>50%</th>\n",
       "      <td>187193.500000</td>\n",
       "      <td>3.000000</td>\n",
       "      <td>14.000000</td>\n",
       "      <td>29.00000</td>\n",
       "      <td>18.000000</td>\n",
       "      <td>0.000000</td>\n",
       "      <td>0.000000</td>\n",
       "      <td>1.000000</td>\n",
       "      <td>0.000000</td>\n",
       "    </tr>\n",
       "    <tr>\n",
       "      <th>75%</th>\n",
       "      <td>279984.250000</td>\n",
       "      <td>5.000000</td>\n",
       "      <td>19.000000</td>\n",
       "      <td>37.00000</td>\n",
       "      <td>28.000000</td>\n",
       "      <td>0.000000</td>\n",
       "      <td>0.000000</td>\n",
       "      <td>1.000000</td>\n",
       "      <td>0.000000</td>\n",
       "    </tr>\n",
       "    <tr>\n",
       "      <th>max</th>\n",
       "      <td>373662.000000</td>\n",
       "      <td>6.000000</td>\n",
       "      <td>23.000000</td>\n",
       "      <td>101.00000</td>\n",
       "      <td>325.000000</td>\n",
       "      <td>1.000000</td>\n",
       "      <td>1.000000</td>\n",
       "      <td>1.000000</td>\n",
       "      <td>1.000000</td>\n",
       "    </tr>\n",
       "  </tbody>\n",
       "</table>\n",
       "</div>"
      ],
      "text/plain": [
       "                user     dayofweek          hour          age    numscreens  \\\n",
       "count   50000.000000  50000.000000  50000.000000  50000.00000  50000.000000   \n",
       "mean   186889.729900      3.029860     12.557220     31.72436     21.095900   \n",
       "std    107768.520361      2.031997      7.438072     10.80331     15.728812   \n",
       "min        13.000000      0.000000      0.000000     16.00000      1.000000   \n",
       "25%     93526.750000      1.000000      5.000000     24.00000     10.000000   \n",
       "50%    187193.500000      3.000000     14.000000     29.00000     18.000000   \n",
       "75%    279984.250000      5.000000     19.000000     37.00000     28.000000   \n",
       "max    373662.000000      6.000000     23.000000    101.00000    325.000000   \n",
       "\n",
       "           minigame  used_premium_feature      enrolled         liked  \n",
       "count  50000.000000          50000.000000  50000.000000  50000.000000  \n",
       "mean       0.107820              0.172020      0.621480      0.165000  \n",
       "std        0.310156              0.377402      0.485023      0.371184  \n",
       "min        0.000000              0.000000      0.000000      0.000000  \n",
       "25%        0.000000              0.000000      0.000000      0.000000  \n",
       "50%        0.000000              0.000000      1.000000      0.000000  \n",
       "75%        0.000000              0.000000      1.000000      0.000000  \n",
       "max        1.000000              1.000000      1.000000      1.000000  "
      ]
     },
     "execution_count": 51,
     "metadata": {},
     "output_type": "execute_result"
    }
   ],
   "source": [
    "df.describe()"
   ]
  },
  {
   "cell_type": "code",
   "execution_count": 52,
   "metadata": {},
   "outputs": [],
   "source": [
    "df2 = df.copy().drop(['user', 'screen_list', 'enrolled_date', 'first_open', 'enrolled'], axis=1)"
   ]
  },
  {
   "cell_type": "code",
   "execution_count": 53,
   "metadata": {},
   "outputs": [
    {
     "data": {
      "text/html": [
       "<div>\n",
       "<style scoped>\n",
       "    .dataframe tbody tr th:only-of-type {\n",
       "        vertical-align: middle;\n",
       "    }\n",
       "\n",
       "    .dataframe tbody tr th {\n",
       "        vertical-align: top;\n",
       "    }\n",
       "\n",
       "    .dataframe thead th {\n",
       "        text-align: right;\n",
       "    }\n",
       "</style>\n",
       "<table border=\"1\" class=\"dataframe\">\n",
       "  <thead>\n",
       "    <tr style=\"text-align: right;\">\n",
       "      <th></th>\n",
       "      <th>dayofweek</th>\n",
       "      <th>hour</th>\n",
       "      <th>age</th>\n",
       "      <th>numscreens</th>\n",
       "      <th>minigame</th>\n",
       "      <th>used_premium_feature</th>\n",
       "      <th>liked</th>\n",
       "    </tr>\n",
       "  </thead>\n",
       "  <tbody>\n",
       "    <tr>\n",
       "      <th>0</th>\n",
       "      <td>3</td>\n",
       "      <td>2</td>\n",
       "      <td>23</td>\n",
       "      <td>15</td>\n",
       "      <td>0</td>\n",
       "      <td>0</td>\n",
       "      <td>0</td>\n",
       "    </tr>\n",
       "    <tr>\n",
       "      <th>1</th>\n",
       "      <td>6</td>\n",
       "      <td>1</td>\n",
       "      <td>24</td>\n",
       "      <td>13</td>\n",
       "      <td>0</td>\n",
       "      <td>0</td>\n",
       "      <td>0</td>\n",
       "    </tr>\n",
       "    <tr>\n",
       "      <th>2</th>\n",
       "      <td>1</td>\n",
       "      <td>19</td>\n",
       "      <td>23</td>\n",
       "      <td>3</td>\n",
       "      <td>0</td>\n",
       "      <td>1</td>\n",
       "      <td>1</td>\n",
       "    </tr>\n",
       "    <tr>\n",
       "      <th>3</th>\n",
       "      <td>4</td>\n",
       "      <td>16</td>\n",
       "      <td>28</td>\n",
       "      <td>40</td>\n",
       "      <td>0</td>\n",
       "      <td>0</td>\n",
       "      <td>0</td>\n",
       "    </tr>\n",
       "    <tr>\n",
       "      <th>4</th>\n",
       "      <td>1</td>\n",
       "      <td>18</td>\n",
       "      <td>31</td>\n",
       "      <td>32</td>\n",
       "      <td>0</td>\n",
       "      <td>0</td>\n",
       "      <td>1</td>\n",
       "    </tr>\n",
       "  </tbody>\n",
       "</table>\n",
       "</div>"
      ],
      "text/plain": [
       "   dayofweek  hour  age  numscreens  minigame  used_premium_feature  liked\n",
       "0          3     2   23          15         0                     0      0\n",
       "1          6     1   24          13         0                     0      0\n",
       "2          1    19   23           3         0                     1      1\n",
       "3          4    16   28          40         0                     0      0\n",
       "4          1    18   31          32         0                     0      1"
      ]
     },
     "execution_count": 53,
     "metadata": {},
     "output_type": "execute_result"
    }
   ],
   "source": [
    "df2.head()"
   ]
  },
  {
   "cell_type": "markdown",
   "metadata": {},
   "source": [
    "# Histograms"
   ]
  },
  {
   "cell_type": "code",
   "execution_count": 54,
   "metadata": {},
   "outputs": [
    {
     "data": {
      "image/png": "[encoded data removed]",
      "text/plain": [
       "<Figure size 1224x720 with 7 Axes>"
      ]
     },
     "metadata": {},
     "output_type": "display_data"
    }
   ],
   "source": [
    "plt.figure(figsize=(17,10))\n",
    "plt.suptitle('Histograms of Numerical Columns', fontsize=20)\n",
    "for i in range(1, df2.shape[1]+1):\n",
    "    plt.subplot(3, 3, i)\n",
    "    f = plt.gca()\n",
    "    f.set_title(df2.columns.values[i-1])\n",
    "    \n",
    "    # determine the number of unique values in each column\n",
    "    vals = np.size(df2.iloc[:, i-1].unique())\n",
    "    # number of bins equals the number of unique values for each column\n",
    "    plt.hist(df2.iloc[:, i-1], bins=vals, color='#3F5D7D')\n",
    "\n",
    "plt.subplots_adjust(hspace=0.4)    "
   ]
  },
  {
   "cell_type": "markdown",
   "metadata": {},
   "source": [
    "Findings:\n",
    "\n",
    "- Not a huge preference singing up on a specific day.\n",
    "- Hour is in UTC time so the major dip we see represents sleeping time for most people.  \n",
    "- Most signups tends to be from younger people (right-skewed age) with a few big spikes around 30, 40 and 50. \n",
    "- A few outliers access a large number of screens but generally most people access less than 25 screens.\n",
    "- Most people do not play the mini game or use premium features. \n",
    "- Most people have not liked any of the app features. "
   ]
  },
  {
   "cell_type": "markdown",
   "metadata": {},
   "source": [
    "# Investigating Correlations with Response Variable"
   ]
  },
  {
   "cell_type": "code",
   "execution_count": 64,
   "metadata": {},
   "outputs": [
    {
     "data": {
      "text/plain": [
       "<matplotlib.axes._subplots.AxesSubplot at 0x18db9684d30>"
      ]
     },
     "execution_count": 64,
     "metadata": {},
     "output_type": "execute_result"
    },
    {
     "data": {
      "image/png": "[encoded data removed]",
      "text/plain": [
       "<Figure size 1440x720 with 1 Axes>"
      ]
     },
     "metadata": {},
     "output_type": "display_data"
    }
   ],
   "source": [
    "df2.corrwith(df.enrolled).plot.bar(figsize=(20, 10), \n",
    "                                  title='Correlation with Enrolled',\n",
    "                                 fontsize=15, \n",
    "                                 rot=45, grid=True)"
   ]
  },
  {
   "cell_type": "markdown",
   "metadata": {},
   "source": [
    "Findings:\n",
    "\n",
    "- Older people tend to sign up less.\n",
    "- The more screens someone used, the more likely they are to sign up.\n",
    "- People playing the mini-game tend to sign up, however it's a weak poositive correlation.\n",
    "- People who use the app at earlier hours tend to sign up less, however it's a very weak naegative correlation.\n",
    "- The more people use premium features, the less likely they are to enrol, however it's a very weak negative correlation.\n",
    "- Whether users like a feature or not seems to have no correlation on whether they sign up or not. \n",
    "\n",
    "We need to plot these correlations with a scatter plot as these correlation values only represent linear relationships and there may be a more complex association that we can only see on a scatterplot."
   ]
  },
  {
   "cell_type": "code",
   "execution_count": null,
   "metadata": {},
   "outputs": [],
   "source": []
  },
  {
   "cell_type": "code",
   "execution_count": null,
   "metadata": {},
   "outputs": [],
   "source": []
  },
  {
   "cell_type": "code",
   "execution_count": null,
   "metadata": {},
   "outputs": [],
   "source": []
  },
  {
   "cell_type": "code",
   "execution_count": null,
   "metadata": {},
   "outputs": [],
   "source": []
  }
 ],
 "metadata": {
  "kernelspec": {
   "display_name": "Python 3",
   "language": "python",
   "name": "python3"
  },
  "language_info": {
   "codemirror_mode": {
    "name": "ipython",
    "version": 3
   },
   "file_extension": ".py",
   "mimetype": "text/x-python",
   "name": "python",
   "nbconvert_exporter": "python",
   "pygments_lexer": "ipython3",
   "version": "3.6.5"
  },
  "toc": {
   "base_numbering": 1,
   "nav_menu": {},
   "number_sections": true,
   "sideBar": true,
   "skip_h1_title": false,
   "title_cell": "Table of Contents",
   "title_sidebar": "Contents",
   "toc_cell": true,
   "toc_position": {},
   "toc_section_display": true,
   "toc_window_display": true
  }
 },
 "nbformat": 4,
 "nbformat_minor": 2
}
